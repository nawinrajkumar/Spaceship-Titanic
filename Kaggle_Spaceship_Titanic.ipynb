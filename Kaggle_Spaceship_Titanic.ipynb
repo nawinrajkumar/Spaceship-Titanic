{
  "cells": [
    {
      "cell_type": "code",
      "execution_count": 1,
      "metadata": {
        "id": "U5xV7pWSx-ID"
      },
      "outputs": [],
      "source": [
        "import numpy as np\n",
        "import pandas as pd\n",
        "import matplotlib.pyplot as plt\n",
        "from sklearn.impute import SimpleImputer"
      ]
    },
    {
      "cell_type": "code",
      "execution_count": 3,
      "metadata": {
        "id": "rdkEC2HPyNqh"
      },
      "outputs": [],
      "source": [
        "train_data = pd.read_csv(\"/home/nawinrajkumar/Desktop/Spaceship-Titanic/train.csv\")"
      ]
    },
    {
      "cell_type": "code",
      "execution_count": 4,
      "metadata": {
        "colab": {
          "base_uri": "https://localhost:8080/"
        },
        "id": "ZuyoYaIcEHaS",
        "outputId": "ec82db69-6820-4577-8e92-a9acc90b51a1"
      },
      "outputs": [
        {
          "data": {
            "text/plain": [
              "PassengerId       0\n",
              "HomePlanet      201\n",
              "CryoSleep       217\n",
              "Cabin           199\n",
              "Destination     182\n",
              "Age             179\n",
              "VIP             203\n",
              "RoomService     181\n",
              "FoodCourt       183\n",
              "ShoppingMall    208\n",
              "Spa             183\n",
              "VRDeck          188\n",
              "Name            200\n",
              "Transported       0\n",
              "dtype: int64"
            ]
          },
          "execution_count": 4,
          "metadata": {},
          "output_type": "execute_result"
        }
      ],
      "source": [
        "train_data.isnull().sum()"
      ]
    },
    {
      "cell_type": "code",
      "execution_count": 5,
      "metadata": {
        "id": "vL6H1RDAPhWF"
      },
      "outputs": [],
      "source": [
        "split = pd.DataFrame(train_data['Name'].str.split(' ',expand=True))"
      ]
    },
    {
      "cell_type": "code",
      "execution_count": 6,
      "metadata": {
        "id": "pGrLSGdnPtQt"
      },
      "outputs": [],
      "source": [
        "train_data['HasFamily'] = split[1].duplicated()\n",
        "  "
      ]
    },
    {
      "cell_type": "code",
      "execution_count": 7,
      "metadata": {},
      "outputs": [
        {
          "data": {
            "text/html": [
              "<div>\n",
              "<style scoped>\n",
              "    .dataframe tbody tr th:only-of-type {\n",
              "        vertical-align: middle;\n",
              "    }\n",
              "\n",
              "    .dataframe tbody tr th {\n",
              "        vertical-align: top;\n",
              "    }\n",
              "\n",
              "    .dataframe thead th {\n",
              "        text-align: right;\n",
              "    }\n",
              "</style>\n",
              "<table border=\"1\" class=\"dataframe\">\n",
              "  <thead>\n",
              "    <tr style=\"text-align: right;\">\n",
              "      <th></th>\n",
              "      <th>PassengerId</th>\n",
              "      <th>HomePlanet</th>\n",
              "      <th>CryoSleep</th>\n",
              "      <th>Cabin</th>\n",
              "      <th>Destination</th>\n",
              "      <th>Age</th>\n",
              "      <th>VIP</th>\n",
              "      <th>RoomService</th>\n",
              "      <th>FoodCourt</th>\n",
              "      <th>ShoppingMall</th>\n",
              "      <th>Spa</th>\n",
              "      <th>VRDeck</th>\n",
              "      <th>Name</th>\n",
              "      <th>Transported</th>\n",
              "      <th>HasFamily</th>\n",
              "    </tr>\n",
              "  </thead>\n",
              "  <tbody>\n",
              "    <tr>\n",
              "      <th>0</th>\n",
              "      <td>0001_01</td>\n",
              "      <td>Europa</td>\n",
              "      <td>False</td>\n",
              "      <td>B/0/P</td>\n",
              "      <td>TRAPPIST-1e</td>\n",
              "      <td>39.0</td>\n",
              "      <td>False</td>\n",
              "      <td>0.0</td>\n",
              "      <td>0.0</td>\n",
              "      <td>0.0</td>\n",
              "      <td>0.0</td>\n",
              "      <td>0.0</td>\n",
              "      <td>Maham Ofracculy</td>\n",
              "      <td>False</td>\n",
              "      <td>False</td>\n",
              "    </tr>\n",
              "    <tr>\n",
              "      <th>1</th>\n",
              "      <td>0002_01</td>\n",
              "      <td>Earth</td>\n",
              "      <td>False</td>\n",
              "      <td>F/0/S</td>\n",
              "      <td>TRAPPIST-1e</td>\n",
              "      <td>24.0</td>\n",
              "      <td>False</td>\n",
              "      <td>109.0</td>\n",
              "      <td>9.0</td>\n",
              "      <td>25.0</td>\n",
              "      <td>549.0</td>\n",
              "      <td>44.0</td>\n",
              "      <td>Juanna Vines</td>\n",
              "      <td>True</td>\n",
              "      <td>False</td>\n",
              "    </tr>\n",
              "    <tr>\n",
              "      <th>2</th>\n",
              "      <td>0003_01</td>\n",
              "      <td>Europa</td>\n",
              "      <td>False</td>\n",
              "      <td>A/0/S</td>\n",
              "      <td>TRAPPIST-1e</td>\n",
              "      <td>58.0</td>\n",
              "      <td>True</td>\n",
              "      <td>43.0</td>\n",
              "      <td>3576.0</td>\n",
              "      <td>0.0</td>\n",
              "      <td>6715.0</td>\n",
              "      <td>49.0</td>\n",
              "      <td>Altark Susent</td>\n",
              "      <td>False</td>\n",
              "      <td>False</td>\n",
              "    </tr>\n",
              "    <tr>\n",
              "      <th>3</th>\n",
              "      <td>0003_02</td>\n",
              "      <td>Europa</td>\n",
              "      <td>False</td>\n",
              "      <td>A/0/S</td>\n",
              "      <td>TRAPPIST-1e</td>\n",
              "      <td>33.0</td>\n",
              "      <td>False</td>\n",
              "      <td>0.0</td>\n",
              "      <td>1283.0</td>\n",
              "      <td>371.0</td>\n",
              "      <td>3329.0</td>\n",
              "      <td>193.0</td>\n",
              "      <td>Solam Susent</td>\n",
              "      <td>False</td>\n",
              "      <td>True</td>\n",
              "    </tr>\n",
              "    <tr>\n",
              "      <th>4</th>\n",
              "      <td>0004_01</td>\n",
              "      <td>Earth</td>\n",
              "      <td>False</td>\n",
              "      <td>F/1/S</td>\n",
              "      <td>TRAPPIST-1e</td>\n",
              "      <td>16.0</td>\n",
              "      <td>False</td>\n",
              "      <td>303.0</td>\n",
              "      <td>70.0</td>\n",
              "      <td>151.0</td>\n",
              "      <td>565.0</td>\n",
              "      <td>2.0</td>\n",
              "      <td>Willy Santantines</td>\n",
              "      <td>True</td>\n",
              "      <td>False</td>\n",
              "    </tr>\n",
              "    <tr>\n",
              "      <th>...</th>\n",
              "      <td>...</td>\n",
              "      <td>...</td>\n",
              "      <td>...</td>\n",
              "      <td>...</td>\n",
              "      <td>...</td>\n",
              "      <td>...</td>\n",
              "      <td>...</td>\n",
              "      <td>...</td>\n",
              "      <td>...</td>\n",
              "      <td>...</td>\n",
              "      <td>...</td>\n",
              "      <td>...</td>\n",
              "      <td>...</td>\n",
              "      <td>...</td>\n",
              "      <td>...</td>\n",
              "    </tr>\n",
              "    <tr>\n",
              "      <th>8688</th>\n",
              "      <td>9276_01</td>\n",
              "      <td>Europa</td>\n",
              "      <td>False</td>\n",
              "      <td>A/98/P</td>\n",
              "      <td>55 Cancri e</td>\n",
              "      <td>41.0</td>\n",
              "      <td>True</td>\n",
              "      <td>0.0</td>\n",
              "      <td>6819.0</td>\n",
              "      <td>0.0</td>\n",
              "      <td>1643.0</td>\n",
              "      <td>74.0</td>\n",
              "      <td>Gravior Noxnuther</td>\n",
              "      <td>False</td>\n",
              "      <td>True</td>\n",
              "    </tr>\n",
              "    <tr>\n",
              "      <th>8689</th>\n",
              "      <td>9278_01</td>\n",
              "      <td>Earth</td>\n",
              "      <td>True</td>\n",
              "      <td>G/1499/S</td>\n",
              "      <td>PSO J318.5-22</td>\n",
              "      <td>18.0</td>\n",
              "      <td>False</td>\n",
              "      <td>0.0</td>\n",
              "      <td>0.0</td>\n",
              "      <td>0.0</td>\n",
              "      <td>0.0</td>\n",
              "      <td>0.0</td>\n",
              "      <td>Kurta Mondalley</td>\n",
              "      <td>False</td>\n",
              "      <td>True</td>\n",
              "    </tr>\n",
              "    <tr>\n",
              "      <th>8690</th>\n",
              "      <td>9279_01</td>\n",
              "      <td>Earth</td>\n",
              "      <td>False</td>\n",
              "      <td>G/1500/S</td>\n",
              "      <td>TRAPPIST-1e</td>\n",
              "      <td>26.0</td>\n",
              "      <td>False</td>\n",
              "      <td>0.0</td>\n",
              "      <td>0.0</td>\n",
              "      <td>1872.0</td>\n",
              "      <td>1.0</td>\n",
              "      <td>0.0</td>\n",
              "      <td>Fayey Connon</td>\n",
              "      <td>True</td>\n",
              "      <td>True</td>\n",
              "    </tr>\n",
              "    <tr>\n",
              "      <th>8691</th>\n",
              "      <td>9280_01</td>\n",
              "      <td>Europa</td>\n",
              "      <td>False</td>\n",
              "      <td>E/608/S</td>\n",
              "      <td>55 Cancri e</td>\n",
              "      <td>32.0</td>\n",
              "      <td>False</td>\n",
              "      <td>0.0</td>\n",
              "      <td>1049.0</td>\n",
              "      <td>0.0</td>\n",
              "      <td>353.0</td>\n",
              "      <td>3235.0</td>\n",
              "      <td>Celeon Hontichre</td>\n",
              "      <td>False</td>\n",
              "      <td>True</td>\n",
              "    </tr>\n",
              "    <tr>\n",
              "      <th>8692</th>\n",
              "      <td>9280_02</td>\n",
              "      <td>Europa</td>\n",
              "      <td>False</td>\n",
              "      <td>E/608/S</td>\n",
              "      <td>TRAPPIST-1e</td>\n",
              "      <td>44.0</td>\n",
              "      <td>False</td>\n",
              "      <td>126.0</td>\n",
              "      <td>4688.0</td>\n",
              "      <td>0.0</td>\n",
              "      <td>0.0</td>\n",
              "      <td>12.0</td>\n",
              "      <td>Propsh Hontichre</td>\n",
              "      <td>True</td>\n",
              "      <td>True</td>\n",
              "    </tr>\n",
              "  </tbody>\n",
              "</table>\n",
              "<p>8693 rows × 15 columns</p>\n",
              "</div>"
            ],
            "text/plain": [
              "     PassengerId HomePlanet CryoSleep     Cabin    Destination   Age    VIP  \\\n",
              "0        0001_01     Europa     False     B/0/P    TRAPPIST-1e  39.0  False   \n",
              "1        0002_01      Earth     False     F/0/S    TRAPPIST-1e  24.0  False   \n",
              "2        0003_01     Europa     False     A/0/S    TRAPPIST-1e  58.0   True   \n",
              "3        0003_02     Europa     False     A/0/S    TRAPPIST-1e  33.0  False   \n",
              "4        0004_01      Earth     False     F/1/S    TRAPPIST-1e  16.0  False   \n",
              "...          ...        ...       ...       ...            ...   ...    ...   \n",
              "8688     9276_01     Europa     False    A/98/P    55 Cancri e  41.0   True   \n",
              "8689     9278_01      Earth      True  G/1499/S  PSO J318.5-22  18.0  False   \n",
              "8690     9279_01      Earth     False  G/1500/S    TRAPPIST-1e  26.0  False   \n",
              "8691     9280_01     Europa     False   E/608/S    55 Cancri e  32.0  False   \n",
              "8692     9280_02     Europa     False   E/608/S    TRAPPIST-1e  44.0  False   \n",
              "\n",
              "      RoomService  FoodCourt  ShoppingMall     Spa  VRDeck               Name  \\\n",
              "0             0.0        0.0           0.0     0.0     0.0    Maham Ofracculy   \n",
              "1           109.0        9.0          25.0   549.0    44.0       Juanna Vines   \n",
              "2            43.0     3576.0           0.0  6715.0    49.0      Altark Susent   \n",
              "3             0.0     1283.0         371.0  3329.0   193.0       Solam Susent   \n",
              "4           303.0       70.0         151.0   565.0     2.0  Willy Santantines   \n",
              "...           ...        ...           ...     ...     ...                ...   \n",
              "8688          0.0     6819.0           0.0  1643.0    74.0  Gravior Noxnuther   \n",
              "8689          0.0        0.0           0.0     0.0     0.0    Kurta Mondalley   \n",
              "8690          0.0        0.0        1872.0     1.0     0.0       Fayey Connon   \n",
              "8691          0.0     1049.0           0.0   353.0  3235.0   Celeon Hontichre   \n",
              "8692        126.0     4688.0           0.0     0.0    12.0   Propsh Hontichre   \n",
              "\n",
              "      Transported  HasFamily  \n",
              "0           False      False  \n",
              "1            True      False  \n",
              "2           False      False  \n",
              "3           False       True  \n",
              "4            True      False  \n",
              "...           ...        ...  \n",
              "8688        False       True  \n",
              "8689        False       True  \n",
              "8690         True       True  \n",
              "8691        False       True  \n",
              "8692         True       True  \n",
              "\n",
              "[8693 rows x 15 columns]"
            ]
          },
          "execution_count": 7,
          "metadata": {},
          "output_type": "execute_result"
        }
      ],
      "source": [
        "train_data"
      ]
    },
    {
      "cell_type": "code",
      "execution_count": 8,
      "metadata": {
        "colab": {
          "base_uri": "https://localhost:8080/"
        },
        "id": "rAxLsMhHT7UH",
        "outputId": "104789b8-0471-45a4-e185-99d9f54b65f2"
      },
      "outputs": [
        {
          "data": {
            "text/plain": [
              "False    6561\n",
              "True     2132\n",
              "Name: Cabin, dtype: int64"
            ]
          },
          "execution_count": 8,
          "metadata": {},
          "output_type": "execute_result"
        }
      ],
      "source": [
        "train_data['Cabin'].duplicated().value_counts()"
      ]
    },
    {
      "cell_type": "code",
      "execution_count": 9,
      "metadata": {
        "id": "zDHhLQPASMK9"
      },
      "outputs": [],
      "source": [
        "for i in range(len(train_data.HasFamily)-1):\n",
        "  if train_data.at[i,'HasFamily'] == True:\n",
        "    train_data.at[i-1,'HasFamily'] = True\n",
        "\n"
      ]
    },
    {
      "cell_type": "code",
      "execution_count": 10,
      "metadata": {
        "id": "MNQgMwb_zdea"
      },
      "outputs": [],
      "source": [
        "df = pd.DataFrame(train_data[train_data['VIP'] ==  True])\n",
        "df2 = pd.DataFrame(train_data[train_data['VIP'] ==  False])"
      ]
    },
    {
      "cell_type": "code",
      "execution_count": 11,
      "metadata": {},
      "outputs": [
        {
          "data": {
            "text/html": [
              "<div>\n",
              "<style scoped>\n",
              "    .dataframe tbody tr th:only-of-type {\n",
              "        vertical-align: middle;\n",
              "    }\n",
              "\n",
              "    .dataframe tbody tr th {\n",
              "        vertical-align: top;\n",
              "    }\n",
              "\n",
              "    .dataframe thead th {\n",
              "        text-align: right;\n",
              "    }\n",
              "</style>\n",
              "<table border=\"1\" class=\"dataframe\">\n",
              "  <thead>\n",
              "    <tr style=\"text-align: right;\">\n",
              "      <th></th>\n",
              "      <th>HomePlanet</th>\n",
              "      <th>CryoSleep</th>\n",
              "      <th>Cabin</th>\n",
              "      <th>Destination</th>\n",
              "      <th>Age</th>\n",
              "      <th>VIP</th>\n",
              "      <th>RoomService</th>\n",
              "      <th>FoodCourt</th>\n",
              "      <th>ShoppingMall</th>\n",
              "      <th>Spa</th>\n",
              "      <th>VRDeck</th>\n",
              "      <th>Name</th>\n",
              "      <th>Transported</th>\n",
              "      <th>HasFamily</th>\n",
              "    </tr>\n",
              "    <tr>\n",
              "      <th>PassengerId</th>\n",
              "      <th></th>\n",
              "      <th></th>\n",
              "      <th></th>\n",
              "      <th></th>\n",
              "      <th></th>\n",
              "      <th></th>\n",
              "      <th></th>\n",
              "      <th></th>\n",
              "      <th></th>\n",
              "      <th></th>\n",
              "      <th></th>\n",
              "      <th></th>\n",
              "      <th></th>\n",
              "      <th></th>\n",
              "    </tr>\n",
              "  </thead>\n",
              "  <tbody>\n",
              "    <tr>\n",
              "      <th>0001_01</th>\n",
              "      <td>Europa</td>\n",
              "      <td>False</td>\n",
              "      <td>B/0/P</td>\n",
              "      <td>TRAPPIST-1e</td>\n",
              "      <td>39.0</td>\n",
              "      <td>False</td>\n",
              "      <td>0.0</td>\n",
              "      <td>0.0</td>\n",
              "      <td>0.0</td>\n",
              "      <td>0.0</td>\n",
              "      <td>0.0</td>\n",
              "      <td>Maham Ofracculy</td>\n",
              "      <td>False</td>\n",
              "      <td>False</td>\n",
              "    </tr>\n",
              "    <tr>\n",
              "      <th>0002_01</th>\n",
              "      <td>Earth</td>\n",
              "      <td>False</td>\n",
              "      <td>F/0/S</td>\n",
              "      <td>TRAPPIST-1e</td>\n",
              "      <td>24.0</td>\n",
              "      <td>False</td>\n",
              "      <td>109.0</td>\n",
              "      <td>9.0</td>\n",
              "      <td>25.0</td>\n",
              "      <td>549.0</td>\n",
              "      <td>44.0</td>\n",
              "      <td>Juanna Vines</td>\n",
              "      <td>True</td>\n",
              "      <td>False</td>\n",
              "    </tr>\n",
              "    <tr>\n",
              "      <th>0003_01</th>\n",
              "      <td>Europa</td>\n",
              "      <td>False</td>\n",
              "      <td>A/0/S</td>\n",
              "      <td>TRAPPIST-1e</td>\n",
              "      <td>58.0</td>\n",
              "      <td>True</td>\n",
              "      <td>43.0</td>\n",
              "      <td>3576.0</td>\n",
              "      <td>0.0</td>\n",
              "      <td>6715.0</td>\n",
              "      <td>49.0</td>\n",
              "      <td>Altark Susent</td>\n",
              "      <td>False</td>\n",
              "      <td>True</td>\n",
              "    </tr>\n",
              "    <tr>\n",
              "      <th>0003_02</th>\n",
              "      <td>Europa</td>\n",
              "      <td>False</td>\n",
              "      <td>A/0/S</td>\n",
              "      <td>TRAPPIST-1e</td>\n",
              "      <td>33.0</td>\n",
              "      <td>False</td>\n",
              "      <td>0.0</td>\n",
              "      <td>1283.0</td>\n",
              "      <td>371.0</td>\n",
              "      <td>3329.0</td>\n",
              "      <td>193.0</td>\n",
              "      <td>Solam Susent</td>\n",
              "      <td>False</td>\n",
              "      <td>True</td>\n",
              "    </tr>\n",
              "    <tr>\n",
              "      <th>0004_01</th>\n",
              "      <td>Earth</td>\n",
              "      <td>False</td>\n",
              "      <td>F/1/S</td>\n",
              "      <td>TRAPPIST-1e</td>\n",
              "      <td>16.0</td>\n",
              "      <td>False</td>\n",
              "      <td>303.0</td>\n",
              "      <td>70.0</td>\n",
              "      <td>151.0</td>\n",
              "      <td>565.0</td>\n",
              "      <td>2.0</td>\n",
              "      <td>Willy Santantines</td>\n",
              "      <td>True</td>\n",
              "      <td>False</td>\n",
              "    </tr>\n",
              "    <tr>\n",
              "      <th>...</th>\n",
              "      <td>...</td>\n",
              "      <td>...</td>\n",
              "      <td>...</td>\n",
              "      <td>...</td>\n",
              "      <td>...</td>\n",
              "      <td>...</td>\n",
              "      <td>...</td>\n",
              "      <td>...</td>\n",
              "      <td>...</td>\n",
              "      <td>...</td>\n",
              "      <td>...</td>\n",
              "      <td>...</td>\n",
              "      <td>...</td>\n",
              "      <td>...</td>\n",
              "    </tr>\n",
              "    <tr>\n",
              "      <th>9276_01</th>\n",
              "      <td>Europa</td>\n",
              "      <td>False</td>\n",
              "      <td>A/98/P</td>\n",
              "      <td>55 Cancri e</td>\n",
              "      <td>41.0</td>\n",
              "      <td>True</td>\n",
              "      <td>0.0</td>\n",
              "      <td>6819.0</td>\n",
              "      <td>0.0</td>\n",
              "      <td>1643.0</td>\n",
              "      <td>74.0</td>\n",
              "      <td>Gravior Noxnuther</td>\n",
              "      <td>False</td>\n",
              "      <td>True</td>\n",
              "    </tr>\n",
              "    <tr>\n",
              "      <th>9278_01</th>\n",
              "      <td>Earth</td>\n",
              "      <td>True</td>\n",
              "      <td>G/1499/S</td>\n",
              "      <td>PSO J318.5-22</td>\n",
              "      <td>18.0</td>\n",
              "      <td>False</td>\n",
              "      <td>0.0</td>\n",
              "      <td>0.0</td>\n",
              "      <td>0.0</td>\n",
              "      <td>0.0</td>\n",
              "      <td>0.0</td>\n",
              "      <td>Kurta Mondalley</td>\n",
              "      <td>False</td>\n",
              "      <td>True</td>\n",
              "    </tr>\n",
              "    <tr>\n",
              "      <th>9279_01</th>\n",
              "      <td>Earth</td>\n",
              "      <td>False</td>\n",
              "      <td>G/1500/S</td>\n",
              "      <td>TRAPPIST-1e</td>\n",
              "      <td>26.0</td>\n",
              "      <td>False</td>\n",
              "      <td>0.0</td>\n",
              "      <td>0.0</td>\n",
              "      <td>1872.0</td>\n",
              "      <td>1.0</td>\n",
              "      <td>0.0</td>\n",
              "      <td>Fayey Connon</td>\n",
              "      <td>True</td>\n",
              "      <td>True</td>\n",
              "    </tr>\n",
              "    <tr>\n",
              "      <th>9280_01</th>\n",
              "      <td>Europa</td>\n",
              "      <td>False</td>\n",
              "      <td>E/608/S</td>\n",
              "      <td>55 Cancri e</td>\n",
              "      <td>32.0</td>\n",
              "      <td>False</td>\n",
              "      <td>0.0</td>\n",
              "      <td>1049.0</td>\n",
              "      <td>0.0</td>\n",
              "      <td>353.0</td>\n",
              "      <td>3235.0</td>\n",
              "      <td>Celeon Hontichre</td>\n",
              "      <td>False</td>\n",
              "      <td>True</td>\n",
              "    </tr>\n",
              "    <tr>\n",
              "      <th>9280_02</th>\n",
              "      <td>Europa</td>\n",
              "      <td>False</td>\n",
              "      <td>E/608/S</td>\n",
              "      <td>TRAPPIST-1e</td>\n",
              "      <td>44.0</td>\n",
              "      <td>False</td>\n",
              "      <td>126.0</td>\n",
              "      <td>4688.0</td>\n",
              "      <td>0.0</td>\n",
              "      <td>0.0</td>\n",
              "      <td>12.0</td>\n",
              "      <td>Propsh Hontichre</td>\n",
              "      <td>True</td>\n",
              "      <td>True</td>\n",
              "    </tr>\n",
              "  </tbody>\n",
              "</table>\n",
              "<p>8693 rows × 14 columns</p>\n",
              "</div>"
            ],
            "text/plain": [
              "            HomePlanet CryoSleep     Cabin    Destination   Age    VIP  \\\n",
              "PassengerId                                                              \n",
              "0001_01         Europa     False     B/0/P    TRAPPIST-1e  39.0  False   \n",
              "0002_01          Earth     False     F/0/S    TRAPPIST-1e  24.0  False   \n",
              "0003_01         Europa     False     A/0/S    TRAPPIST-1e  58.0   True   \n",
              "0003_02         Europa     False     A/0/S    TRAPPIST-1e  33.0  False   \n",
              "0004_01          Earth     False     F/1/S    TRAPPIST-1e  16.0  False   \n",
              "...                ...       ...       ...            ...   ...    ...   \n",
              "9276_01         Europa     False    A/98/P    55 Cancri e  41.0   True   \n",
              "9278_01          Earth      True  G/1499/S  PSO J318.5-22  18.0  False   \n",
              "9279_01          Earth     False  G/1500/S    TRAPPIST-1e  26.0  False   \n",
              "9280_01         Europa     False   E/608/S    55 Cancri e  32.0  False   \n",
              "9280_02         Europa     False   E/608/S    TRAPPIST-1e  44.0  False   \n",
              "\n",
              "             RoomService  FoodCourt  ShoppingMall     Spa  VRDeck  \\\n",
              "PassengerId                                                         \n",
              "0001_01              0.0        0.0           0.0     0.0     0.0   \n",
              "0002_01            109.0        9.0          25.0   549.0    44.0   \n",
              "0003_01             43.0     3576.0           0.0  6715.0    49.0   \n",
              "0003_02              0.0     1283.0         371.0  3329.0   193.0   \n",
              "0004_01            303.0       70.0         151.0   565.0     2.0   \n",
              "...                  ...        ...           ...     ...     ...   \n",
              "9276_01              0.0     6819.0           0.0  1643.0    74.0   \n",
              "9278_01              0.0        0.0           0.0     0.0     0.0   \n",
              "9279_01              0.0        0.0        1872.0     1.0     0.0   \n",
              "9280_01              0.0     1049.0           0.0   353.0  3235.0   \n",
              "9280_02            126.0     4688.0           0.0     0.0    12.0   \n",
              "\n",
              "                          Name  Transported  HasFamily  \n",
              "PassengerId                                             \n",
              "0001_01        Maham Ofracculy        False      False  \n",
              "0002_01           Juanna Vines         True      False  \n",
              "0003_01          Altark Susent        False       True  \n",
              "0003_02           Solam Susent        False       True  \n",
              "0004_01      Willy Santantines         True      False  \n",
              "...                        ...          ...        ...  \n",
              "9276_01      Gravior Noxnuther        False       True  \n",
              "9278_01        Kurta Mondalley        False       True  \n",
              "9279_01           Fayey Connon         True       True  \n",
              "9280_01       Celeon Hontichre        False       True  \n",
              "9280_02       Propsh Hontichre         True       True  \n",
              "\n",
              "[8693 rows x 14 columns]"
            ]
          },
          "execution_count": 11,
          "metadata": {},
          "output_type": "execute_result"
        }
      ],
      "source": [
        "train_data.set_index('PassengerId')"
      ]
    },
    {
      "cell_type": "code",
      "execution_count": 12,
      "metadata": {
        "id": "5RnjRvNj4uwi"
      },
      "outputs": [],
      "source": [
        "VIP_avg = ((train_data[train_data['VIP'] ==  True].FoodCourt + train_data[train_data['VIP'] ==  True].ShoppingMall + train_data[train_data['VIP'] ==  True].Spa + train_data[train_data['VIP'] ==  True].VRDeck)/5).mean()\n",
        "non_VIP_avg = ((train_data[train_data['VIP'] ==  False].FoodCourt + train_data[train_data['VIP'] ==  False].ShoppingMall + train_data[train_data['VIP'] ==  False].Spa + train_data[train_data['VIP'] ==  False].VRDeck)/5).mean() "
      ]
    },
    {
      "cell_type": "code",
      "execution_count": 13,
      "metadata": {
        "colab": {
          "base_uri": "https://localhost:8080/"
        },
        "id": "DxfQ6_cf5XMh",
        "outputId": "54edcd0f-e911-49cf-a1f3-328cd4038834"
      },
      "outputs": [
        {
          "name": "stdout",
          "output_type": "stream",
          "text": [
            "(824.6483516483516, 239.2638965835642)\n"
          ]
        }
      ],
      "source": [
        "print((VIP_avg,non_VIP_avg))"
      ]
    },
    {
      "cell_type": "code",
      "execution_count": 14,
      "metadata": {
        "colab": {
          "base_uri": "https://localhost:8080/"
        },
        "id": "EyBywRjp6QWC",
        "outputId": "efae1e4d-f7da-4655-8550-00a446ad1849"
      },
      "outputs": [
        {
          "data": {
            "text/plain": [
              "False    8291\n",
              "NaN       203\n",
              "True      199\n",
              "Name: VIP, dtype: int64"
            ]
          },
          "execution_count": 14,
          "metadata": {},
          "output_type": "execute_result"
        }
      ],
      "source": [
        "train_data.VIP.value_counts(dropna = False)"
      ]
    },
    {
      "cell_type": "code",
      "execution_count": 15,
      "metadata": {
        "id": "ZkTtnJpX5Bma"
      },
      "outputs": [],
      "source": [
        "train_data['Age'] = train_data['Age'].fillna(train_data['Age'].mean())\n",
        "train_data['RoomService'] = train_data['RoomService'].fillna(train_data['RoomService'].mean())\n",
        "train_data['FoodCourt'] = train_data['FoodCourt'].fillna(train_data['FoodCourt'].mean())\n",
        "train_data['ShoppingMall'] = train_data['ShoppingMall'].fillna(train_data['ShoppingMall'].mean())\n",
        "train_data['Spa'] = train_data['Spa'].fillna(train_data['Spa'].mean())\n",
        "train_data['VRDeck'] = train_data['VRDeck'].fillna(train_data['VRDeck'].mean())"
      ]
    },
    {
      "cell_type": "markdown",
      "metadata": {
        "id": "nXVtCGROHlgb"
      },
      "source": [
        "Filling the null values of VIP column by finding the mean of the expenses by finding the mean of 5 columns.\n"
      ]
    },
    {
      "cell_type": "code",
      "execution_count": 16,
      "metadata": {
        "id": "damUaceLEJET"
      },
      "outputs": [],
      "source": [
        "for i in range(len(train_data)):\n",
        "  if train_data.loc[i].isnull()['VIP'] == True:\n",
        "    dff = ((train_data.loc[i]['RoomService'] + train_data.loc[i]['FoodCourt'] + train_data.loc[i]['ShoppingMall'] + train_data.loc[i]['Spa'] + train_data.loc[i]['VRDeck']) / 5)\n",
        "    if dff > 500:\n",
        "      train_data.at[i,'VIP'] = True\n",
        "    else:\n",
        "      train_data.at[i,'VIP'] = False\n",
        "  else:\n",
        "    continue\n",
        "   \n"
      ]
    },
    {
      "cell_type": "code",
      "execution_count": 17,
      "metadata": {
        "colab": {
          "base_uri": "https://localhost:8080/"
        },
        "id": "z1T_Y35I_8bF",
        "outputId": "a6f8c79b-9d8d-41ee-af52-318577c900b3"
      },
      "outputs": [
        {
          "data": {
            "text/plain": [
              "False    8470\n",
              "True      223\n",
              "Name: VIP, dtype: int64"
            ]
          },
          "execution_count": 17,
          "metadata": {},
          "output_type": "execute_result"
        }
      ],
      "source": [
        "train_data.VIP.value_counts(dropna = False)"
      ]
    },
    {
      "cell_type": "code",
      "execution_count": 18,
      "metadata": {
        "colab": {
          "base_uri": "https://localhost:8080/"
        },
        "id": "scbKdbDMBpcB",
        "outputId": "5400d851-db49-40da-d866-849c4b1399f8"
      },
      "outputs": [
        {
          "data": {
            "text/plain": [
              "PassengerId       0\n",
              "HomePlanet      201\n",
              "CryoSleep       217\n",
              "Cabin           199\n",
              "Destination     182\n",
              "Age               0\n",
              "VIP               0\n",
              "RoomService       0\n",
              "FoodCourt         0\n",
              "ShoppingMall      0\n",
              "Spa               0\n",
              "VRDeck            0\n",
              "Name            200\n",
              "Transported       0\n",
              "HasFamily         0\n",
              "dtype: int64"
            ]
          },
          "execution_count": 18,
          "metadata": {},
          "output_type": "execute_result"
        }
      ],
      "source": [
        "train_data.isnull().sum()"
      ]
    },
    {
      "cell_type": "code",
      "execution_count": 19,
      "metadata": {
        "id": "h0Z-r-7oDnPX"
      },
      "outputs": [
        {
          "data": {
            "text/plain": [
              "0         Maham Ofracculy\n",
              "1            Juanna Vines\n",
              "2           Altark Susent\n",
              "3            Solam Susent\n",
              "4       Willy Santantines\n",
              "              ...        \n",
              "8688    Gravior Noxnuther\n",
              "8689      Kurta Mondalley\n",
              "8690         Fayey Connon\n",
              "8691     Celeon Hontichre\n",
              "8692     Propsh Hontichre\n",
              "Name: Name, Length: 8693, dtype: object"
            ]
          },
          "execution_count": 19,
          "metadata": {},
          "output_type": "execute_result"
        }
      ],
      "source": [
        "train_data['Name']"
      ]
    },
    {
      "cell_type": "code",
      "execution_count": 20,
      "metadata": {
        "id": "49ENl1Sb9KX6"
      },
      "outputs": [],
      "source": [
        "from sklearn import preprocessing\n",
        "label_encoder = preprocessing.LabelEncoder()"
      ]
    },
    {
      "cell_type": "code",
      "execution_count": 22,
      "metadata": {},
      "outputs": [],
      "source": [
        "imp = SimpleImputer(strategy='most_frequent')\n",
        "train_data['HomePlanet']=imp.fit_transform(train_data[['HomePlanet']])\n",
        "train_data['Destination']=imp.fit_transform(train_data[['Destination']])"
      ]
    },
    {
      "cell_type": "code",
      "execution_count": 23,
      "metadata": {
        "id": "P0Md0jax88Fa"
      },
      "outputs": [],
      "source": [
        "train_data['Destination'] = label_encoder.fit_transform(train_data['Destination'])\n",
        "train_data['HomePlanet'] = label_encoder.fit_transform(train_data['HomePlanet'])"
      ]
    },
    {
      "cell_type": "code",
      "execution_count": 25,
      "metadata": {
        "colab": {
          "base_uri": "https://localhost:8080/",
          "height": 670
        },
        "id": "5PmSYhgU2RIi",
        "outputId": "c0d0b15d-9dc2-455f-85e9-9db4136396ad"
      },
      "outputs": [
        {
          "name": "stderr",
          "output_type": "stream",
          "text": [
            "/tmp/ipykernel_28770/1192578495.py:4: FutureWarning: The default value of numeric_only in DataFrame.corr is deprecated. In a future version, it will default to False. Select only valid columns or specify the value of numeric_only to silence this warning.\n",
            "  sns.heatmap(train_data.corr(), annot=True)\n"
          ]
        },
        {
          "data": {
            "text/plain": [
              "<AxesSubplot: >"
            ]
          },
          "execution_count": 25,
          "metadata": {},
          "output_type": "execute_result"
        },
        {
          "data": {
            "image/png": "[encoded data removed]",
            "text/plain": [
              "<Figure size 1000x1000 with 2 Axes>"
            ]
          },
          "metadata": {},
          "output_type": "display_data"
        }
      ],
      "source": [
        "import matplotlib.pyplot as plt\n",
        "import seaborn as sns\n",
        "plt.figure(figsize=(10,10))\n",
        "sns.heatmap(train_data.corr(), annot=True)"
      ]
    },
    {
      "cell_type": "code",
      "execution_count": 26,
      "metadata": {
        "colab": {
          "base_uri": "https://localhost:8080/"
        },
        "id": "z1294BlD4T4e",
        "outputId": "b463861a-8963-494a-95e5-4c4141255735"
      },
      "outputs": [
        {
          "data": {
            "text/plain": [
              "PassengerId       0\n",
              "HomePlanet        0\n",
              "CryoSleep       217\n",
              "Cabin           199\n",
              "Destination       0\n",
              "Age               0\n",
              "VIP               0\n",
              "RoomService       0\n",
              "FoodCourt         0\n",
              "ShoppingMall      0\n",
              "Spa               0\n",
              "VRDeck            0\n",
              "Name            200\n",
              "Transported       0\n",
              "HasFamily         0\n",
              "dtype: int64"
            ]
          },
          "execution_count": 26,
          "metadata": {},
          "output_type": "execute_result"
        }
      ],
      "source": [
        "train_data.isnull().sum()"
      ]
    },
    {
      "cell_type": "code",
      "execution_count": 27,
      "metadata": {
        "colab": {
          "base_uri": "https://localhost:8080/"
        },
        "id": "3WubFTMbBXrf",
        "outputId": "5a40c5c5-98b9-4808-c3fc-bf9599dd34ae"
      },
      "outputs": [
        {
          "data": {
            "text/plain": [
              "0.45174373706870374"
            ]
          },
          "execution_count": 27,
          "metadata": {},
          "output_type": "execute_result"
        }
      ],
      "source": [
        "train_data.CryoSleep.astype(bool).corr(train_data.Transported)"
      ]
    },
    {
      "cell_type": "markdown",
      "metadata": {
        "id": "-OrFVJihHXv6"
      },
      "source": [
        "Filling null values of Cryo Sleep using the Transported Column as there is a  posititve correlation between these two columns."
      ]
    },
    {
      "cell_type": "code",
      "execution_count": 28,
      "metadata": {
        "id": "sZ7C1BRwGMHC"
      },
      "outputs": [],
      "source": [
        "for i in range(len(train_data)):\n",
        "  if train_data.loc[i].isnull()['CryoSleep'] == True:\n",
        "    if train_data.loc[i]['Transported'] == True:\n",
        "      train_data.at[i, 'CryoSleep'] = True\n",
        "    else:\n",
        "      train_data.at[i, 'CryoSleep'] = False"
      ]
    },
    {
      "cell_type": "code",
      "execution_count": 29,
      "metadata": {
        "colab": {
          "base_uri": "https://localhost:8080/"
        },
        "id": "tjAn5zKqM-_x",
        "outputId": "801de414-5f9d-479d-d7db-b1f269993d6a"
      },
      "outputs": [
        {
          "data": {
            "text/plain": [
              "PassengerId       0\n",
              "HomePlanet        0\n",
              "CryoSleep         0\n",
              "Cabin           199\n",
              "Destination       0\n",
              "Age               0\n",
              "VIP               0\n",
              "RoomService       0\n",
              "FoodCourt         0\n",
              "ShoppingMall      0\n",
              "Spa               0\n",
              "VRDeck            0\n",
              "Name            200\n",
              "Transported       0\n",
              "HasFamily         0\n",
              "dtype: int64"
            ]
          },
          "execution_count": 29,
          "metadata": {},
          "output_type": "execute_result"
        }
      ],
      "source": [
        "train_data.isnull().sum()"
      ]
    },
    {
      "cell_type": "code",
      "execution_count": 30,
      "metadata": {},
      "outputs": [],
      "source": [
        "train_data['Cabin'].fillna('T/0/P',inplace=True)\n",
        "x = train_data['Cabin'].str.split('/',expand=True)\n",
        "x.rename(columns={0:'Cabinn',1:'Deck',2:'Seat'},inplace = True)"
      ]
    },
    {
      "cell_type": "code",
      "execution_count": 31,
      "metadata": {},
      "outputs": [],
      "source": [
        "train_data = train_data.join(x,how='right')"
      ]
    },
    {
      "cell_type": "code",
      "execution_count": 34,
      "metadata": {},
      "outputs": [
        {
          "ename": "KeyError",
          "evalue": "'Cabin'",
          "output_type": "error",
          "traceback": [
            "\u001b[0;31m---------------------------------------------------------------------------\u001b[0m",
            "\u001b[0;31mKeyError\u001b[0m                                  Traceback (most recent call last)",
            "File \u001b[0;32m~/.local/lib/python3.8/site-packages/pandas/core/indexes/base.py:3803\u001b[0m, in \u001b[0;36mIndex.get_loc\u001b[0;34m(self, key, method, tolerance)\u001b[0m\n\u001b[1;32m   3802\u001b[0m \u001b[39mtry\u001b[39;00m:\n\u001b[0;32m-> 3803\u001b[0m     \u001b[39mreturn\u001b[39;00m \u001b[39mself\u001b[39;49m\u001b[39m.\u001b[39;49m_engine\u001b[39m.\u001b[39;49mget_loc(casted_key)\n\u001b[1;32m   3804\u001b[0m \u001b[39mexcept\u001b[39;00m \u001b[39mKeyError\u001b[39;00m \u001b[39mas\u001b[39;00m err:\n",
            "File \u001b[0;32m~/.local/lib/python3.8/site-packages/pandas/_libs/index.pyx:138\u001b[0m, in \u001b[0;36mpandas._libs.index.IndexEngine.get_loc\u001b[0;34m()\u001b[0m\n",
            "File \u001b[0;32m~/.local/lib/python3.8/site-packages/pandas/_libs/index.pyx:165\u001b[0m, in \u001b[0;36mpandas._libs.index.IndexEngine.get_loc\u001b[0;34m()\u001b[0m\n",
            "File \u001b[0;32mpandas/_libs/hashtable_class_helper.pxi:5745\u001b[0m, in \u001b[0;36mpandas._libs.hashtable.PyObjectHashTable.get_item\u001b[0;34m()\u001b[0m\n",
            "File \u001b[0;32mpandas/_libs/hashtable_class_helper.pxi:5753\u001b[0m, in \u001b[0;36mpandas._libs.hashtable.PyObjectHashTable.get_item\u001b[0;34m()\u001b[0m\n",
            "\u001b[0;31mKeyError\u001b[0m: 'Cabin'",
            "\nThe above exception was the direct cause of the following exception:\n",
            "\u001b[0;31mKeyError\u001b[0m                                  Traceback (most recent call last)",
            "Cell \u001b[0;32mIn [34], line 1\u001b[0m\n\u001b[0;32m----> 1\u001b[0m \u001b[39mdel\u001b[39;00m train_data[\u001b[39m'\u001b[39m\u001b[39mCabin\u001b[39m\u001b[39m'\u001b[39m]\n",
            "File \u001b[0;32m~/.local/lib/python3.8/site-packages/pandas/core/generic.py:4243\u001b[0m, in \u001b[0;36mNDFrame.__delitem__\u001b[0;34m(self, key)\u001b[0m\n\u001b[1;32m   4238\u001b[0m             deleted \u001b[39m=\u001b[39m \u001b[39mTrue\u001b[39;00m\n\u001b[1;32m   4239\u001b[0m \u001b[39mif\u001b[39;00m \u001b[39mnot\u001b[39;00m deleted:\n\u001b[1;32m   4240\u001b[0m     \u001b[39m# If the above loop ran and didn't delete anything because\u001b[39;00m\n\u001b[1;32m   4241\u001b[0m     \u001b[39m# there was no match, this call should raise the appropriate\u001b[39;00m\n\u001b[1;32m   4242\u001b[0m     \u001b[39m# exception:\u001b[39;00m\n\u001b[0;32m-> 4243\u001b[0m     loc \u001b[39m=\u001b[39m \u001b[39mself\u001b[39;49m\u001b[39m.\u001b[39;49maxes[\u001b[39m-\u001b[39;49m\u001b[39m1\u001b[39;49m]\u001b[39m.\u001b[39;49mget_loc(key)\n\u001b[1;32m   4244\u001b[0m     \u001b[39mself\u001b[39m\u001b[39m.\u001b[39m_mgr \u001b[39m=\u001b[39m \u001b[39mself\u001b[39m\u001b[39m.\u001b[39m_mgr\u001b[39m.\u001b[39midelete(loc)\n\u001b[1;32m   4246\u001b[0m \u001b[39m# delete from the caches\u001b[39;00m\n",
            "File \u001b[0;32m~/.local/lib/python3.8/site-packages/pandas/core/indexes/base.py:3805\u001b[0m, in \u001b[0;36mIndex.get_loc\u001b[0;34m(self, key, method, tolerance)\u001b[0m\n\u001b[1;32m   3803\u001b[0m     \u001b[39mreturn\u001b[39;00m \u001b[39mself\u001b[39m\u001b[39m.\u001b[39m_engine\u001b[39m.\u001b[39mget_loc(casted_key)\n\u001b[1;32m   3804\u001b[0m \u001b[39mexcept\u001b[39;00m \u001b[39mKeyError\u001b[39;00m \u001b[39mas\u001b[39;00m err:\n\u001b[0;32m-> 3805\u001b[0m     \u001b[39mraise\u001b[39;00m \u001b[39mKeyError\u001b[39;00m(key) \u001b[39mfrom\u001b[39;00m \u001b[39merr\u001b[39;00m\n\u001b[1;32m   3806\u001b[0m \u001b[39mexcept\u001b[39;00m \u001b[39mTypeError\u001b[39;00m:\n\u001b[1;32m   3807\u001b[0m     \u001b[39m# If we have a listlike key, _check_indexing_error will raise\u001b[39;00m\n\u001b[1;32m   3808\u001b[0m     \u001b[39m#  InvalidIndexError. Otherwise we fall through and re-raise\u001b[39;00m\n\u001b[1;32m   3809\u001b[0m     \u001b[39m#  the TypeError.\u001b[39;00m\n\u001b[1;32m   3810\u001b[0m     \u001b[39mself\u001b[39m\u001b[39m.\u001b[39m_check_indexing_error(key)\n",
            "\u001b[0;31mKeyError\u001b[0m: 'Cabin'"
          ]
        }
      ],
      "source": [
        "del train_data['Cabin']\n"
      ]
    },
    {
      "cell_type": "code",
      "execution_count": 35,
      "metadata": {},
      "outputs": [],
      "source": [
        "del train_data['Seat']"
      ]
    },
    {
      "cell_type": "code",
      "execution_count": 36,
      "metadata": {},
      "outputs": [],
      "source": [
        "del train_data['Name']"
      ]
    },
    {
      "cell_type": "code",
      "execution_count": 37,
      "metadata": {
        "id": "M0HNHRuKlhPU"
      },
      "outputs": [],
      "source": [
        "train_data['Expenses'] = train_data['RoomService'] + train_data['FoodCourt'] + train_data['ShoppingMall'] + train_data['VRDeck'] + train_data['Spa'] "
      ]
    },
    {
      "cell_type": "code",
      "execution_count": 38,
      "metadata": {
        "colab": {
          "base_uri": "https://localhost:8080/"
        },
        "id": "GYODR6yzmU8k",
        "outputId": "18cdcd08-821b-4309-9753-58356c572831"
      },
      "outputs": [
        {
          "data": {
            "text/plain": [
              "PassengerId     0\n",
              "HomePlanet      0\n",
              "CryoSleep       0\n",
              "Destination     0\n",
              "Age             0\n",
              "VIP             0\n",
              "RoomService     0\n",
              "FoodCourt       0\n",
              "ShoppingMall    0\n",
              "Spa             0\n",
              "VRDeck          0\n",
              "Transported     0\n",
              "HasFamily       0\n",
              "Cabinn          0\n",
              "Deck            0\n",
              "Expenses        0\n",
              "dtype: int64"
            ]
          },
          "execution_count": 38,
          "metadata": {},
          "output_type": "execute_result"
        }
      ],
      "source": [
        "train_data.isnull().sum()\n"
      ]
    },
    {
      "cell_type": "code",
      "execution_count": 58,
      "metadata": {},
      "outputs": [],
      "source": [
        "X = train_data.drop(\"Transported\",axis =1)\n",
        "y = train_data['Transported']"
      ]
    },
    {
      "cell_type": "code",
      "execution_count": 67,
      "metadata": {},
      "outputs": [
        {
          "data": {
            "text/html": [
              "<div>\n",
              "<style scoped>\n",
              "    .dataframe tbody tr th:only-of-type {\n",
              "        vertical-align: middle;\n",
              "    }\n",
              "\n",
              "    .dataframe tbody tr th {\n",
              "        vertical-align: top;\n",
              "    }\n",
              "\n",
              "    .dataframe thead th {\n",
              "        text-align: right;\n",
              "    }\n",
              "</style>\n",
              "<table border=\"1\" class=\"dataframe\">\n",
              "  <thead>\n",
              "    <tr style=\"text-align: right;\">\n",
              "      <th></th>\n",
              "      <th>PassengerId</th>\n",
              "      <th>HomePlanet</th>\n",
              "      <th>CryoSleep</th>\n",
              "      <th>Destination</th>\n",
              "      <th>Age</th>\n",
              "      <th>VIP</th>\n",
              "      <th>RoomService</th>\n",
              "      <th>FoodCourt</th>\n",
              "      <th>ShoppingMall</th>\n",
              "      <th>Spa</th>\n",
              "      <th>VRDeck</th>\n",
              "      <th>HasFamily</th>\n",
              "      <th>Cabinn</th>\n",
              "      <th>Deck</th>\n",
              "      <th>Expenses</th>\n",
              "    </tr>\n",
              "  </thead>\n",
              "  <tbody>\n",
              "    <tr>\n",
              "      <th>0</th>\n",
              "      <td>0001_01</td>\n",
              "      <td>1</td>\n",
              "      <td>False</td>\n",
              "      <td>2</td>\n",
              "      <td>39.0</td>\n",
              "      <td>False</td>\n",
              "      <td>0.0</td>\n",
              "      <td>0.0</td>\n",
              "      <td>0.0</td>\n",
              "      <td>0.0</td>\n",
              "      <td>0.0</td>\n",
              "      <td>False</td>\n",
              "      <td>B</td>\n",
              "      <td>0</td>\n",
              "      <td>0.0</td>\n",
              "    </tr>\n",
              "    <tr>\n",
              "      <th>1</th>\n",
              "      <td>0002_01</td>\n",
              "      <td>0</td>\n",
              "      <td>False</td>\n",
              "      <td>2</td>\n",
              "      <td>24.0</td>\n",
              "      <td>False</td>\n",
              "      <td>109.0</td>\n",
              "      <td>9.0</td>\n",
              "      <td>25.0</td>\n",
              "      <td>549.0</td>\n",
              "      <td>44.0</td>\n",
              "      <td>False</td>\n",
              "      <td>F</td>\n",
              "      <td>0</td>\n",
              "      <td>736.0</td>\n",
              "    </tr>\n",
              "    <tr>\n",
              "      <th>2</th>\n",
              "      <td>0003_01</td>\n",
              "      <td>1</td>\n",
              "      <td>False</td>\n",
              "      <td>2</td>\n",
              "      <td>58.0</td>\n",
              "      <td>True</td>\n",
              "      <td>43.0</td>\n",
              "      <td>3576.0</td>\n",
              "      <td>0.0</td>\n",
              "      <td>6715.0</td>\n",
              "      <td>49.0</td>\n",
              "      <td>True</td>\n",
              "      <td>A</td>\n",
              "      <td>0</td>\n",
              "      <td>10383.0</td>\n",
              "    </tr>\n",
              "    <tr>\n",
              "      <th>3</th>\n",
              "      <td>0003_02</td>\n",
              "      <td>1</td>\n",
              "      <td>False</td>\n",
              "      <td>2</td>\n",
              "      <td>33.0</td>\n",
              "      <td>False</td>\n",
              "      <td>0.0</td>\n",
              "      <td>1283.0</td>\n",
              "      <td>371.0</td>\n",
              "      <td>3329.0</td>\n",
              "      <td>193.0</td>\n",
              "      <td>True</td>\n",
              "      <td>A</td>\n",
              "      <td>0</td>\n",
              "      <td>5176.0</td>\n",
              "    </tr>\n",
              "    <tr>\n",
              "      <th>4</th>\n",
              "      <td>0004_01</td>\n",
              "      <td>0</td>\n",
              "      <td>False</td>\n",
              "      <td>2</td>\n",
              "      <td>16.0</td>\n",
              "      <td>False</td>\n",
              "      <td>303.0</td>\n",
              "      <td>70.0</td>\n",
              "      <td>151.0</td>\n",
              "      <td>565.0</td>\n",
              "      <td>2.0</td>\n",
              "      <td>False</td>\n",
              "      <td>F</td>\n",
              "      <td>1</td>\n",
              "      <td>1091.0</td>\n",
              "    </tr>\n",
              "    <tr>\n",
              "      <th>...</th>\n",
              "      <td>...</td>\n",
              "      <td>...</td>\n",
              "      <td>...</td>\n",
              "      <td>...</td>\n",
              "      <td>...</td>\n",
              "      <td>...</td>\n",
              "      <td>...</td>\n",
              "      <td>...</td>\n",
              "      <td>...</td>\n",
              "      <td>...</td>\n",
              "      <td>...</td>\n",
              "      <td>...</td>\n",
              "      <td>...</td>\n",
              "      <td>...</td>\n",
              "      <td>...</td>\n",
              "    </tr>\n",
              "    <tr>\n",
              "      <th>8688</th>\n",
              "      <td>9276_01</td>\n",
              "      <td>1</td>\n",
              "      <td>False</td>\n",
              "      <td>0</td>\n",
              "      <td>41.0</td>\n",
              "      <td>True</td>\n",
              "      <td>0.0</td>\n",
              "      <td>6819.0</td>\n",
              "      <td>0.0</td>\n",
              "      <td>1643.0</td>\n",
              "      <td>74.0</td>\n",
              "      <td>True</td>\n",
              "      <td>A</td>\n",
              "      <td>98</td>\n",
              "      <td>8536.0</td>\n",
              "    </tr>\n",
              "    <tr>\n",
              "      <th>8689</th>\n",
              "      <td>9278_01</td>\n",
              "      <td>0</td>\n",
              "      <td>True</td>\n",
              "      <td>1</td>\n",
              "      <td>18.0</td>\n",
              "      <td>False</td>\n",
              "      <td>0.0</td>\n",
              "      <td>0.0</td>\n",
              "      <td>0.0</td>\n",
              "      <td>0.0</td>\n",
              "      <td>0.0</td>\n",
              "      <td>True</td>\n",
              "      <td>G</td>\n",
              "      <td>1499</td>\n",
              "      <td>0.0</td>\n",
              "    </tr>\n",
              "    <tr>\n",
              "      <th>8690</th>\n",
              "      <td>9279_01</td>\n",
              "      <td>0</td>\n",
              "      <td>False</td>\n",
              "      <td>2</td>\n",
              "      <td>26.0</td>\n",
              "      <td>False</td>\n",
              "      <td>0.0</td>\n",
              "      <td>0.0</td>\n",
              "      <td>1872.0</td>\n",
              "      <td>1.0</td>\n",
              "      <td>0.0</td>\n",
              "      <td>True</td>\n",
              "      <td>G</td>\n",
              "      <td>1500</td>\n",
              "      <td>1873.0</td>\n",
              "    </tr>\n",
              "    <tr>\n",
              "      <th>8691</th>\n",
              "      <td>9280_01</td>\n",
              "      <td>1</td>\n",
              "      <td>False</td>\n",
              "      <td>0</td>\n",
              "      <td>32.0</td>\n",
              "      <td>False</td>\n",
              "      <td>0.0</td>\n",
              "      <td>1049.0</td>\n",
              "      <td>0.0</td>\n",
              "      <td>353.0</td>\n",
              "      <td>3235.0</td>\n",
              "      <td>True</td>\n",
              "      <td>E</td>\n",
              "      <td>608</td>\n",
              "      <td>4637.0</td>\n",
              "    </tr>\n",
              "    <tr>\n",
              "      <th>8692</th>\n",
              "      <td>9280_02</td>\n",
              "      <td>1</td>\n",
              "      <td>False</td>\n",
              "      <td>2</td>\n",
              "      <td>44.0</td>\n",
              "      <td>False</td>\n",
              "      <td>126.0</td>\n",
              "      <td>4688.0</td>\n",
              "      <td>0.0</td>\n",
              "      <td>0.0</td>\n",
              "      <td>12.0</td>\n",
              "      <td>True</td>\n",
              "      <td>E</td>\n",
              "      <td>608</td>\n",
              "      <td>4826.0</td>\n",
              "    </tr>\n",
              "  </tbody>\n",
              "</table>\n",
              "<p>8693 rows × 15 columns</p>\n",
              "</div>"
            ],
            "text/plain": [
              "     PassengerId  HomePlanet  CryoSleep  Destination   Age    VIP  \\\n",
              "0        0001_01           1      False            2  39.0  False   \n",
              "1        0002_01           0      False            2  24.0  False   \n",
              "2        0003_01           1      False            2  58.0   True   \n",
              "3        0003_02           1      False            2  33.0  False   \n",
              "4        0004_01           0      False            2  16.0  False   \n",
              "...          ...         ...        ...          ...   ...    ...   \n",
              "8688     9276_01           1      False            0  41.0   True   \n",
              "8689     9278_01           0       True            1  18.0  False   \n",
              "8690     9279_01           0      False            2  26.0  False   \n",
              "8691     9280_01           1      False            0  32.0  False   \n",
              "8692     9280_02           1      False            2  44.0  False   \n",
              "\n",
              "      RoomService  FoodCourt  ShoppingMall     Spa  VRDeck  HasFamily Cabinn  \\\n",
              "0             0.0        0.0           0.0     0.0     0.0      False      B   \n",
              "1           109.0        9.0          25.0   549.0    44.0      False      F   \n",
              "2            43.0     3576.0           0.0  6715.0    49.0       True      A   \n",
              "3             0.0     1283.0         371.0  3329.0   193.0       True      A   \n",
              "4           303.0       70.0         151.0   565.0     2.0      False      F   \n",
              "...           ...        ...           ...     ...     ...        ...    ...   \n",
              "8688          0.0     6819.0           0.0  1643.0    74.0       True      A   \n",
              "8689          0.0        0.0           0.0     0.0     0.0       True      G   \n",
              "8690          0.0        0.0        1872.0     1.0     0.0       True      G   \n",
              "8691          0.0     1049.0           0.0   353.0  3235.0       True      E   \n",
              "8692        126.0     4688.0           0.0     0.0    12.0       True      E   \n",
              "\n",
              "      Deck  Expenses  \n",
              "0        0       0.0  \n",
              "1        0     736.0  \n",
              "2        0   10383.0  \n",
              "3        0    5176.0  \n",
              "4        1    1091.0  \n",
              "...    ...       ...  \n",
              "8688    98    8536.0  \n",
              "8689  1499       0.0  \n",
              "8690  1500    1873.0  \n",
              "8691   608    4637.0  \n",
              "8692   608    4826.0  \n",
              "\n",
              "[8693 rows x 15 columns]"
            ]
          },
          "execution_count": 67,
          "metadata": {},
          "output_type": "execute_result"
        }
      ],
      "source": [
        "X"
      ]
    },
    {
      "cell_type": "code",
      "execution_count": 72,
      "metadata": {},
      "outputs": [
        {
          "name": "stdout",
          "output_type": "stream",
          "text": [
            "<class 'pandas.core.frame.DataFrame'>\n",
            "RangeIndex: 8693 entries, 0 to 8692\n",
            "Data columns (total 15 columns):\n",
            " #   Column        Non-Null Count  Dtype  \n",
            "---  ------        --------------  -----  \n",
            " 0   PassengerId   8693 non-null   object \n",
            " 1   HomePlanet    8693 non-null   int64  \n",
            " 2   CryoSleep     8693 non-null   bool   \n",
            " 3   Destination   8693 non-null   int64  \n",
            " 4   Age           8693 non-null   float64\n",
            " 5   VIP           8693 non-null   bool   \n",
            " 6   RoomService   8693 non-null   float64\n",
            " 7   FoodCourt     8693 non-null   float64\n",
            " 8   ShoppingMall  8693 non-null   float64\n",
            " 9   Spa           8693 non-null   float64\n",
            " 10  VRDeck        8693 non-null   float64\n",
            " 11  HasFamily     8693 non-null   bool   \n",
            " 12  Cabinn        8693 non-null   object \n",
            " 13  Deck          8693 non-null   int64  \n",
            " 14  Expenses      8693 non-null   float64\n",
            "dtypes: bool(3), float64(7), int64(3), object(2)\n",
            "memory usage: 840.6+ KB\n"
          ]
        }
      ],
      "source": [
        "X.info()"
      ]
    },
    {
      "cell_type": "code",
      "execution_count": 83,
      "metadata": {},
      "outputs": [],
      "source": [
        "X.set_index('PassengerId',inplace=True)\n",
        "X['VIP'] = X['VIP'].astype(bool)\n",
        "X['CryoSleep'] = X['CryoSleep'].astype(bool)\n",
        "X['HasFamily'] = X['HasFamily'].astype(bool)\n",
        "X['Deck'] = X['Deck'].astype(int)\n",
        "X['Cabinn'] = label_encoder.fit_transform(X['Cabinn'])\n"
      ]
    },
    {
      "cell_type": "code",
      "execution_count": 84,
      "metadata": {
        "id": "-Rl7YKTvAT14"
      },
      "outputs": [],
      "source": [
        "from sklearn.model_selection import train_test_split\n",
        "X_train, X_test, y_train, y_test = train_test_split(X,y,test_size=0.2,random_state=0)\n"
      ]
    },
    {
      "cell_type": "code",
      "execution_count": 85,
      "metadata": {
        "id": "9SlV1OrI-2vL"
      },
      "outputs": [],
      "source": [
        "from numpy import loadtxt\n",
        "from xgboost import XGBClassifier\n",
        "from sklearn.model_selection import train_test_split\n",
        "from sklearn.metrics import accuracy_score"
      ]
    },
    {
      "cell_type": "code",
      "execution_count": 99,
      "metadata": {},
      "outputs": [],
      "source": [
        "evalset = [(X_train, y_train), (X_test,y_test)]\n"
      ]
    },
    {
      "cell_type": "code",
      "execution_count": 118,
      "metadata": {
        "colab": {
          "base_uri": "https://localhost:8080/"
        },
        "id": "00zFUJ1uMbct",
        "outputId": "4b7d7fec-a5e9-4e2b-cae4-6232fcdd4c2f"
      },
      "outputs": [
        {
          "name": "stderr",
          "output_type": "stream",
          "text": [
            "/home/nawinrajkumar/.local/lib/python3.8/site-packages/xgboost/sklearn.py:861: UserWarning: `eval_metric` in `fit` method is deprecated for better compatibility with scikit-learn, use `eval_metric` in constructor or`set_params` instead.\n",
            "  warnings.warn(\n"
          ]
        },
        {
          "name": "stdout",
          "output_type": "stream",
          "text": [
            "[0]\tvalidation_0-logloss:0.57623\tvalidation_1-logloss:0.58495\n",
            "[1]\tvalidation_0-logloss:0.50864\tvalidation_1-logloss:0.52399\n",
            "[2]\tvalidation_0-logloss:0.46628\tvalidation_1-logloss:0.48778\n",
            "[3]\tvalidation_0-logloss:0.43865\tvalidation_1-logloss:0.46426\n",
            "[4]\tvalidation_0-logloss:0.41727\tvalidation_1-logloss:0.44641\n",
            "[5]\tvalidation_0-logloss:0.40383\tvalidation_1-logloss:0.43718\n",
            "[6]\tvalidation_0-logloss:0.39102\tvalidation_1-logloss:0.42878\n",
            "[7]\tvalidation_0-logloss:0.38005\tvalidation_1-logloss:0.42297\n",
            "[8]\tvalidation_0-logloss:0.36981\tvalidation_1-logloss:0.41912\n",
            "[9]\tvalidation_0-logloss:0.36161\tvalidation_1-logloss:0.41480\n",
            "[10]\tvalidation_0-logloss:0.35539\tvalidation_1-logloss:0.41311\n",
            "[11]\tvalidation_0-logloss:0.34950\tvalidation_1-logloss:0.41139\n",
            "[12]\tvalidation_0-logloss:0.34250\tvalidation_1-logloss:0.41092\n",
            "[13]\tvalidation_0-logloss:0.33482\tvalidation_1-logloss:0.40987\n",
            "[14]\tvalidation_0-logloss:0.33165\tvalidation_1-logloss:0.40855\n",
            "[15]\tvalidation_0-logloss:0.32931\tvalidation_1-logloss:0.40887\n",
            "[16]\tvalidation_0-logloss:0.32805\tvalidation_1-logloss:0.40778\n",
            "[17]\tvalidation_0-logloss:0.32551\tvalidation_1-logloss:0.40839\n",
            "[18]\tvalidation_0-logloss:0.32275\tvalidation_1-logloss:0.40786\n",
            "[19]\tvalidation_0-logloss:0.32113\tvalidation_1-logloss:0.40736\n",
            "[20]\tvalidation_0-logloss:0.31871\tvalidation_1-logloss:0.40701\n",
            "[21]\tvalidation_0-logloss:0.31489\tvalidation_1-logloss:0.40581\n",
            "[22]\tvalidation_0-logloss:0.31445\tvalidation_1-logloss:0.40601\n",
            "[23]\tvalidation_0-logloss:0.31380\tvalidation_1-logloss:0.40574\n",
            "[24]\tvalidation_0-logloss:0.30935\tvalidation_1-logloss:0.40584\n",
            "[25]\tvalidation_0-logloss:0.30708\tvalidation_1-logloss:0.40481\n",
            "[26]\tvalidation_0-logloss:0.30655\tvalidation_1-logloss:0.40452\n",
            "[27]\tvalidation_0-logloss:0.30270\tvalidation_1-logloss:0.40469\n",
            "[28]\tvalidation_0-logloss:0.30045\tvalidation_1-logloss:0.40494\n",
            "[29]\tvalidation_0-logloss:0.29714\tvalidation_1-logloss:0.40648\n",
            "[30]\tvalidation_0-logloss:0.29592\tvalidation_1-logloss:0.40653\n",
            "[31]\tvalidation_0-logloss:0.29400\tvalidation_1-logloss:0.40653\n",
            "[32]\tvalidation_0-logloss:0.28934\tvalidation_1-logloss:0.40865\n",
            "[33]\tvalidation_0-logloss:0.28814\tvalidation_1-logloss:0.40903\n",
            "[34]\tvalidation_0-logloss:0.28221\tvalidation_1-logloss:0.40732\n",
            "[35]\tvalidation_0-logloss:0.28177\tvalidation_1-logloss:0.40743\n",
            "[36]\tvalidation_0-logloss:0.28128\tvalidation_1-logloss:0.40743\n",
            "[37]\tvalidation_0-logloss:0.27928\tvalidation_1-logloss:0.40782\n",
            "[38]\tvalidation_0-logloss:0.27897\tvalidation_1-logloss:0.40769\n",
            "[39]\tvalidation_0-logloss:0.27765\tvalidation_1-logloss:0.40783\n",
            "[40]\tvalidation_0-logloss:0.27613\tvalidation_1-logloss:0.40875\n",
            "[41]\tvalidation_0-logloss:0.27198\tvalidation_1-logloss:0.40845\n",
            "[42]\tvalidation_0-logloss:0.26964\tvalidation_1-logloss:0.40840\n",
            "[43]\tvalidation_0-logloss:0.26929\tvalidation_1-logloss:0.40817\n",
            "[44]\tvalidation_0-logloss:0.26784\tvalidation_1-logloss:0.40824\n",
            "[45]\tvalidation_0-logloss:0.26753\tvalidation_1-logloss:0.40824\n",
            "[46]\tvalidation_0-logloss:0.26687\tvalidation_1-logloss:0.40820\n",
            "[47]\tvalidation_0-logloss:0.26598\tvalidation_1-logloss:0.40901\n",
            "[48]\tvalidation_0-logloss:0.26516\tvalidation_1-logloss:0.40878\n",
            "[49]\tvalidation_0-logloss:0.26288\tvalidation_1-logloss:0.40791\n",
            "[50]\tvalidation_0-logloss:0.26069\tvalidation_1-logloss:0.40885\n",
            "[51]\tvalidation_0-logloss:0.26033\tvalidation_1-logloss:0.40919\n",
            "[52]\tvalidation_0-logloss:0.25976\tvalidation_1-logloss:0.40950\n",
            "[53]\tvalidation_0-logloss:0.25751\tvalidation_1-logloss:0.41115\n",
            "[54]\tvalidation_0-logloss:0.25728\tvalidation_1-logloss:0.41126\n",
            "[55]\tvalidation_0-logloss:0.25714\tvalidation_1-logloss:0.41141\n",
            "[56]\tvalidation_0-logloss:0.25516\tvalidation_1-logloss:0.41241\n",
            "[57]\tvalidation_0-logloss:0.25248\tvalidation_1-logloss:0.41332\n",
            "[58]\tvalidation_0-logloss:0.25237\tvalidation_1-logloss:0.41335\n",
            "[59]\tvalidation_0-logloss:0.24941\tvalidation_1-logloss:0.41458\n",
            "[60]\tvalidation_0-logloss:0.24719\tvalidation_1-logloss:0.41492\n",
            "[61]\tvalidation_0-logloss:0.24525\tvalidation_1-logloss:0.41608\n",
            "[62]\tvalidation_0-logloss:0.24452\tvalidation_1-logloss:0.41619\n",
            "[63]\tvalidation_0-logloss:0.24356\tvalidation_1-logloss:0.41657\n",
            "[64]\tvalidation_0-logloss:0.24125\tvalidation_1-logloss:0.41814\n",
            "[65]\tvalidation_0-logloss:0.23881\tvalidation_1-logloss:0.41772\n",
            "[66]\tvalidation_0-logloss:0.23603\tvalidation_1-logloss:0.41790\n",
            "[67]\tvalidation_0-logloss:0.23441\tvalidation_1-logloss:0.41783\n",
            "[68]\tvalidation_0-logloss:0.23347\tvalidation_1-logloss:0.41850\n",
            "[69]\tvalidation_0-logloss:0.23329\tvalidation_1-logloss:0.41853\n",
            "[70]\tvalidation_0-logloss:0.23210\tvalidation_1-logloss:0.41882\n",
            "[71]\tvalidation_0-logloss:0.23091\tvalidation_1-logloss:0.41894\n",
            "[72]\tvalidation_0-logloss:0.23012\tvalidation_1-logloss:0.41885\n",
            "[73]\tvalidation_0-logloss:0.22994\tvalidation_1-logloss:0.41873\n",
            "[74]\tvalidation_0-logloss:0.22915\tvalidation_1-logloss:0.41891\n",
            "[75]\tvalidation_0-logloss:0.22608\tvalidation_1-logloss:0.41872\n",
            "[76]\tvalidation_0-logloss:0.22492\tvalidation_1-logloss:0.42024\n",
            "[77]\tvalidation_0-logloss:0.22373\tvalidation_1-logloss:0.42096\n",
            "[78]\tvalidation_0-logloss:0.22222\tvalidation_1-logloss:0.42088\n",
            "[79]\tvalidation_0-logloss:0.22184\tvalidation_1-logloss:0.42152\n",
            "[80]\tvalidation_0-logloss:0.22009\tvalidation_1-logloss:0.42170\n",
            "[81]\tvalidation_0-logloss:0.21909\tvalidation_1-logloss:0.42179\n",
            "[82]\tvalidation_0-logloss:0.21853\tvalidation_1-logloss:0.42194\n",
            "[83]\tvalidation_0-logloss:0.21816\tvalidation_1-logloss:0.42251\n",
            "[84]\tvalidation_0-logloss:0.21659\tvalidation_1-logloss:0.42309\n",
            "[85]\tvalidation_0-logloss:0.21504\tvalidation_1-logloss:0.42339\n",
            "[86]\tvalidation_0-logloss:0.21377\tvalidation_1-logloss:0.42328\n",
            "[87]\tvalidation_0-logloss:0.21187\tvalidation_1-logloss:0.42372\n",
            "[88]\tvalidation_0-logloss:0.21087\tvalidation_1-logloss:0.42404\n",
            "[89]\tvalidation_0-logloss:0.20950\tvalidation_1-logloss:0.42388\n",
            "[90]\tvalidation_0-logloss:0.20826\tvalidation_1-logloss:0.42389\n",
            "[91]\tvalidation_0-logloss:0.20596\tvalidation_1-logloss:0.42457\n",
            "[92]\tvalidation_0-logloss:0.20488\tvalidation_1-logloss:0.42489\n",
            "[93]\tvalidation_0-logloss:0.20460\tvalidation_1-logloss:0.42523\n",
            "[94]\tvalidation_0-logloss:0.20427\tvalidation_1-logloss:0.42535\n",
            "[95]\tvalidation_0-logloss:0.20349\tvalidation_1-logloss:0.42529\n",
            "[96]\tvalidation_0-logloss:0.20287\tvalidation_1-logloss:0.42554\n",
            "[97]\tvalidation_0-logloss:0.20132\tvalidation_1-logloss:0.42588\n",
            "[98]\tvalidation_0-logloss:0.20028\tvalidation_1-logloss:0.42614\n",
            "[99]\tvalidation_0-logloss:0.19894\tvalidation_1-logloss:0.42714\n"
          ]
        }
      ],
      "source": [
        "# fit model no training data\n",
        "model = XGBClassifier()\n",
        "history = model.fit(X_train, y_train, eval_metric='logloss', eval_set=evalset)"
      ]
    },
    {
      "cell_type": "code",
      "execution_count": 119,
      "metadata": {
        "id": "s9IgZBaoMpMz"
      },
      "outputs": [],
      "source": [
        "# make predictions for test data\n",
        "y_pred = model.predict(X_test)\n",
        "predictions = [value for value in y_pred]\n"
      ]
    },
    {
      "cell_type": "code",
      "execution_count": 120,
      "metadata": {
        "colab": {
          "base_uri": "https://localhost:8080/"
        },
        "id": "D-vAqFzVOyNs",
        "outputId": "96978101-4f49-4afb-fd51-3df6bde22191"
      },
      "outputs": [
        {
          "name": "stdout",
          "output_type": "stream",
          "text": [
            "Accuracy: 80.33%\n"
          ]
        }
      ],
      "source": [
        "# evaluate predictions\n",
        "accuracy = accuracy_score(y_test, predictions)\n",
        "print(\"Accuracy: %.2f%%\" % (accuracy * 100.0))"
      ]
    },
    {
      "cell_type": "code",
      "execution_count": 121,
      "metadata": {},
      "outputs": [],
      "source": [
        "results = model.evals_result()\n"
      ]
    },
    {
      "cell_type": "code",
      "execution_count": 122,
      "metadata": {},
      "outputs": [
        {
          "data": {
            "text/plain": [
              "[<matplotlib.lines.Line2D at 0x7f452012c7f0>]"
            ]
          },
          "execution_count": 122,
          "metadata": {},
          "output_type": "execute_result"
        },
        {
          "data": {
            "image/png": "[encoded data removed]",
            "text/plain": [
              "<Figure size 640x480 with 1 Axes>"
            ]
          },
          "metadata": {},
          "output_type": "display_data"
        }
      ],
      "source": [
        "plt.plot(results['validation_0']['logloss'], label='train')\n",
        "plt.plot(results['validation_1']['logloss'], label='test')"
      ]
    },
    {
      "cell_type": "markdown",
      "metadata": {
        "id": "lTm4BTkLO-H_"
      },
      "source": []
    },
    {
      "cell_type": "markdown",
      "metadata": {},
      "source": []
    }
  ],
  "metadata": {
    "colab": {
      "collapsed_sections": [],
      "provenance": []
    },
    "kernelspec": {
      "display_name": "Python 3.8.10 64-bit",
      "language": "python",
      "name": "python3"
    },
    "language_info": {
      "codemirror_mode": {
        "name": "ipython",
        "version": 3
      },
      "file_extension": ".py",
      "mimetype": "text/x-python",
      "name": "python",
      "nbconvert_exporter": "python",
      "pygments_lexer": "ipython3",
      "version": "3.8.10"
    },
    "vscode": {
      "interpreter": {
        "hash": "916dbcbb3f70747c44a77c7bcd40155683ae19c65e1c03b4aa3499c5328201f1"
      }
    }
  },
  "nbformat": 4,
  "nbformat_minor": 0
}
